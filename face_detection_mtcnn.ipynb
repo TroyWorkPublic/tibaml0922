{
  "nbformat": 4,
  "nbformat_minor": 0,
  "metadata": {
    "colab": {
      "name": "01face_detection_mtcnn.ipynb",
      "provenance": [],
      "collapsed_sections": [],
      "include_colab_link": true
    },
    "kernelspec": {
      "display_name": "Python 3",
      "language": "python",
      "name": "python3"
    },
    "language_info": {
      "codemirror_mode": {
        "name": "ipython",
        "version": 3
      },
      "file_extension": ".py",
      "mimetype": "text/x-python",
      "name": "python",
      "nbconvert_exporter": "python",
      "pygments_lexer": "ipython3",
      "version": "3.7.4"
    },
    "accelerator": "GPU"
  },
  "cells": [
    {
      "cell_type": "markdown",
      "metadata": {
        "id": "view-in-github",
        "colab_type": "text"
      },
      "source": [
        "<a href=\"https://colab.research.google.com/github/TroyWorkPublic/tibaml0922/blob/main/face_detection_mtcnn.ipynb\" target=\"_parent\"><img src=\"https://colab.research.google.com/assets/colab-badge.svg\" alt=\"Open In Colab\"/></a>"
      ]
    },
    {
      "cell_type": "code",
      "metadata": {
        "id": "EA4FwcI3EAdc"
      },
      "source": [
        "!pip install mtcnn  "
      ],
      "execution_count": null,
      "outputs": []
    },
    {
      "cell_type": "code",
      "metadata": {
        "id": "fFC6CycQBCGm"
      },
      "source": [
        "# Download and unzip dataset\n",
        "!gdown --id 1RJ6MEDV9tYexOTAQDiWZ2bx8fO4HuUAu\n",
        "!unzip -q \"5celeb.zip\""
      ],
      "execution_count": null,
      "outputs": []
    },
    {
      "cell_type": "code",
      "metadata": {
        "id": "23itP_mSEIk3"
      },
      "source": [
        "import mtcnn\n",
        "from mtcnn import MTCNN\n",
        "import cv2\n",
        "import matplotlib.pyplot as plt\n",
        "import numpy as np\n",
        "from glob import glob\n",
        "from pprint import pprint"
      ],
      "execution_count": 3,
      "outputs": []
    },
    {
      "cell_type": "code",
      "metadata": {
        "id": "1BfqAlNNEy2X"
      },
      "source": [
        "path = './5celeb/data/*/*/*.jpg'"
      ],
      "execution_count": 4,
      "outputs": []
    },
    {
      "cell_type": "code",
      "metadata": {
        "id": "u5m2os3yE9Ls",
        "colab": {
          "base_uri": "https://localhost:8080/"
        },
        "outputId": "2b8dadda-6f8b-4c54-ade1-d89c1a537382"
      },
      "source": [
        "img_paths = glob(path)\n",
        "len(glob(path))"
      ],
      "execution_count": 5,
      "outputs": [
        {
          "output_type": "execute_result",
          "data": {
            "text/plain": [
              "118"
            ]
          },
          "metadata": {},
          "execution_count": 5
        }
      ]
    },
    {
      "cell_type": "code",
      "metadata": {
        "id": "gDJ90IQnFLOL"
      },
      "source": [
        "# create the detector, using default weights\n",
        "detector = MTCNN()"
      ],
      "execution_count": 6,
      "outputs": []
    },
    {
      "cell_type": "code",
      "metadata": {
        "id": "FcNVVS1zFlYP",
        "colab": {
          "base_uri": "https://localhost:8080/"
        },
        "outputId": "869baa0e-4deb-4017-9e71-4c39467b8a72"
      },
      "source": [
        "img = cv2.imread(img_paths[0])[:,:,::-1] # read image\n",
        "# detect face\n",
        "results = detector.detect_faces(img)\n",
        "pprint(results)\n"
      ],
      "execution_count": 7,
      "outputs": [
        {
          "output_type": "stream",
          "name": "stdout",
          "text": [
            "WARNING:tensorflow:5 out of the last 10 calls to <function Model.make_predict_function.<locals>.predict_function at 0x7f3d45dd5680> triggered tf.function retracing. Tracing is expensive and the excessive number of tracings could be due to (1) creating @tf.function repeatedly in a loop, (2) passing tensors with different shapes, (3) passing Python objects instead of tensors. For (1), please define your @tf.function outside of the loop. For (2), @tf.function has experimental_relax_shapes=True option that relaxes argument shapes that can avoid unnecessary retracing. For (3), please refer to https://www.tensorflow.org/guide/function#controlling_retracing and https://www.tensorflow.org/api_docs/python/tf/function for  more details.\n",
            "[{'box': [110, 33, 24, 28],\n",
            "  'confidence': 0.9999649524688721,\n",
            "  'keypoints': {'left_eye': (120, 42),\n",
            "                'mouth_left': (115, 51),\n",
            "                'mouth_right': (124, 56),\n",
            "                'nose': (123, 51),\n",
            "                'right_eye': (130, 48)}}]\n"
          ]
        }
      ]
    },
    {
      "cell_type": "code",
      "metadata": {
        "id": "hSkklmqsLavZ"
      },
      "source": [
        "# extract the bounding box from the first face\n",
        "x1, y1, width, height = results[0]['box']\n",
        "x2, y2 = x1 + width, y1 + height\n",
        "print((x1, y1), (x2, y2), img.shape)\n",
        "plt.imshow(img)"
      ],
      "execution_count": null,
      "outputs": []
    },
    {
      "cell_type": "code",
      "metadata": {
        "id": "DRUAKgEqEbrS"
      },
      "source": [
        "for path in img_paths[:5]:\n",
        "    img = cv2.imread(path)[:,:,::-1] # read image\n",
        "    # detect face\n",
        "    results = detector.detect_faces(img)\n",
        "    # extract the bounding box from the first face\n",
        "    assert len(results) >= 1\n",
        "    x1, y1, width, height = results[0]['box']\n",
        "    x2, y2 = x1 + width, y1 + height\n",
        "    print(x1, x2, y1,y2)\n",
        "    # crop face\n",
        "    patch = img[max(y1, 0):y2, max(x1, 0):x2]\n",
        "    # draw bbox\n",
        "    img = cv2.rectangle(img, (x1, y1), (x2, y2), (0, 255, 0), 5).get()\n",
        "    # show image\n",
        "    plt.imshow(patch)\n",
        "    plt.show()\n",
        "    plt.imshow(img)\n",
        "    plt.show()"
      ],
      "execution_count": null,
      "outputs": []
    },
    {
      "cell_type": "code",
      "metadata": {
        "id": "KD8FKFevFH6h"
      },
      "source": [
        ""
      ],
      "execution_count": null,
      "outputs": []
    },
    {
      "cell_type": "code",
      "metadata": {
        "id": "JdpPybVUMDG6"
      },
      "source": [
        ""
      ],
      "execution_count": null,
      "outputs": []
    }
  ]
}